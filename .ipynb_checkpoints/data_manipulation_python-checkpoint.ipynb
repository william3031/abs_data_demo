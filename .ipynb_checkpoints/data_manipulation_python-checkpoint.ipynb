{
 "cells": [
  {
   "cell_type": "code",
   "execution_count": 1,
   "metadata": {},
   "outputs": [],
   "source": [
    "# load libraries for data manipulation\n",
    "import numpy as np\n",
    "import pandas as pd"
   ]
  },
  {
   "cell_type": "markdown",
   "metadata": {},
   "source": [
    "# Read in data"
   ]
  },
  {
   "cell_type": "code",
   "execution_count": 2,
   "metadata": {},
   "outputs": [
    {
     "name": "stdout",
     "output_type": "stream",
     "text": [
      "(3985, 4)\n"
     ]
    },
    {
     "data": {
      "text/html": [
       "<div>\n",
       "<style scoped>\n",
       "    .dataframe tbody tr th:only-of-type {\n",
       "        vertical-align: middle;\n",
       "    }\n",
       "\n",
       "    .dataframe tbody tr th {\n",
       "        vertical-align: top;\n",
       "    }\n",
       "\n",
       "    .dataframe thead th {\n",
       "        text-align: right;\n",
       "    }\n",
       "</style>\n",
       "<table border=\"1\" class=\"dataframe\">\n",
       "  <thead>\n",
       "    <tr style=\"text-align: right;\">\n",
       "      <th></th>\n",
       "      <th>Counting</th>\n",
       "      <th>SA1 (UR)</th>\n",
       "      <th>LANP - 4 Digit Level</th>\n",
       "      <th>Count</th>\n",
       "    </tr>\n",
       "  </thead>\n",
       "  <tbody>\n",
       "    <tr>\n",
       "      <th>0</th>\n",
       "      <td>Persons, Place of Usual Residence</td>\n",
       "      <td>2111302</td>\n",
       "      <td>English</td>\n",
       "      <td>283</td>\n",
       "    </tr>\n",
       "    <tr>\n",
       "      <th>1</th>\n",
       "      <td>Persons, Place of Usual Residence</td>\n",
       "      <td>2111302</td>\n",
       "      <td>French</td>\n",
       "      <td>5</td>\n",
       "    </tr>\n",
       "    <tr>\n",
       "      <th>2</th>\n",
       "      <td>Persons, Place of Usual Residence</td>\n",
       "      <td>2111302</td>\n",
       "      <td>Greek</td>\n",
       "      <td>9</td>\n",
       "    </tr>\n",
       "    <tr>\n",
       "      <th>3</th>\n",
       "      <td>Persons, Place of Usual Residence</td>\n",
       "      <td>2111302</td>\n",
       "      <td>Spanish</td>\n",
       "      <td>5</td>\n",
       "    </tr>\n",
       "    <tr>\n",
       "      <th>4</th>\n",
       "      <td>Persons, Place of Usual Residence</td>\n",
       "      <td>2111302</td>\n",
       "      <td>Italian</td>\n",
       "      <td>17</td>\n",
       "    </tr>\n",
       "  </tbody>\n",
       "</table>\n",
       "</div>"
      ],
      "text/plain": [
       "                            Counting  SA1 (UR) LANP - 4 Digit Level  Count\n",
       "0  Persons, Place of Usual Residence   2111302              English    283\n",
       "1  Persons, Place of Usual Residence   2111302               French      5\n",
       "2  Persons, Place of Usual Residence   2111302                Greek      9\n",
       "3  Persons, Place of Usual Residence   2111302              Spanish      5\n",
       "4  Persons, Place of Usual Residence   2111302              Italian     17"
      ]
     },
     "execution_count": 2,
     "metadata": {},
     "output_type": "execute_result"
    }
   ],
   "source": [
    "# load language dataset - this one is pretty clean\n",
    "lang_raw = pd.read_csv(r\"data_in/SA1_2016_LANP.csv\")\n",
    "print(lang_raw.shape) # the shape of the dataset\n",
    "lang_raw.head(5) # the first five rows"
   ]
  },
  {
   "cell_type": "code",
   "execution_count": 3,
   "metadata": {},
   "outputs": [
    {
     "name": "stdout",
     "output_type": "stream",
     "text": [
      "(2144, 4)\n"
     ]
    },
    {
     "data": {
      "text/html": [
       "<div>\n",
       "<style scoped>\n",
       "    .dataframe tbody tr th:only-of-type {\n",
       "        vertical-align: middle;\n",
       "    }\n",
       "\n",
       "    .dataframe tbody tr th {\n",
       "        vertical-align: top;\n",
       "    }\n",
       "\n",
       "    .dataframe thead th {\n",
       "        text-align: right;\n",
       "    }\n",
       "</style>\n",
       "<table border=\"1\" class=\"dataframe\">\n",
       "  <thead>\n",
       "    <tr style=\"text-align: right;\">\n",
       "      <th></th>\n",
       "      <th>Counting</th>\n",
       "      <th>SA1</th>\n",
       "      <th>HHCD - 2 Digit Level</th>\n",
       "      <th>Count</th>\n",
       "    </tr>\n",
       "  </thead>\n",
       "  <tbody>\n",
       "    <tr>\n",
       "      <th>0</th>\n",
       "      <td>Dwellings Location on Census Night</td>\n",
       "      <td>2111301</td>\n",
       "      <td>One family household with only family members ...</td>\n",
       "      <td>0.0</td>\n",
       "    </tr>\n",
       "    <tr>\n",
       "      <th>1</th>\n",
       "      <td>Dwellings Location on Census Night</td>\n",
       "      <td>2111301</td>\n",
       "      <td>One family household with non-family members p...</td>\n",
       "      <td>0.0</td>\n",
       "    </tr>\n",
       "    <tr>\n",
       "      <th>2</th>\n",
       "      <td>Dwellings Location on Census Night</td>\n",
       "      <td>2111301</td>\n",
       "      <td>Two family household</td>\n",
       "      <td>0.0</td>\n",
       "    </tr>\n",
       "    <tr>\n",
       "      <th>3</th>\n",
       "      <td>Dwellings Location on Census Night</td>\n",
       "      <td>2111301</td>\n",
       "      <td>Three or more family household</td>\n",
       "      <td>0.0</td>\n",
       "    </tr>\n",
       "    <tr>\n",
       "      <th>4</th>\n",
       "      <td>Dwellings Location on Census Night</td>\n",
       "      <td>2111301</td>\n",
       "      <td>Lone person household</td>\n",
       "      <td>0.0</td>\n",
       "    </tr>\n",
       "  </tbody>\n",
       "</table>\n",
       "</div>"
      ],
      "text/plain": [
       "                             Counting      SA1  \\\n",
       "0  Dwellings Location on Census Night  2111301   \n",
       "1  Dwellings Location on Census Night  2111301   \n",
       "2  Dwellings Location on Census Night  2111301   \n",
       "3  Dwellings Location on Census Night  2111301   \n",
       "4  Dwellings Location on Census Night  2111301   \n",
       "\n",
       "                                HHCD - 2 Digit Level  Count  \n",
       "0  One family household with only family members ...    0.0  \n",
       "1  One family household with non-family members p...    0.0  \n",
       "2                               Two family household    0.0  \n",
       "3                     Three or more family household    0.0  \n",
       "4                              Lone person household    0.0  "
      ]
     },
     "execution_count": 3,
     "metadata": {},
     "output_type": "execute_result"
    }
   ],
   "source": [
    "# household composition - this one has extra rows on the top and bottom that needs to be deleted \n",
    "# this has been downloaded from tablebuilder\n",
    "hhcd_raw = pd.read_csv(r\"data_in/SA1_2016_hhcd2.csv\", skiprows = 9) \n",
    "hhcd_raw = hhcd_raw[hhcd_raw['Count'].notnull()] # drop the na values\n",
    "hhcd_raw = hhcd_raw[~(hhcd_raw['HHCD - 2 Digit Level'] == \"Not applicable\")] # filter out the not applicables\n",
    "hhcd_raw = hhcd_raw.drop(columns = 'Unnamed: 4') # drop this\n",
    "print(hhcd_raw.shape) # the shape of the dataset\n",
    "hhcd_raw.head(5)"
   ]
  },
  {
   "cell_type": "markdown",
   "metadata": {},
   "source": [
    "# Manipulate data"
   ]
  },
  {
   "cell_type": "markdown",
   "metadata": {},
   "source": [
    "## Languages spoken at home"
   ]
  },
  {
   "cell_type": "code",
   "execution_count": 4,
   "metadata": {},
   "outputs": [
    {
     "data": {
      "text/html": [
       "<div>\n",
       "<style scoped>\n",
       "    .dataframe tbody tr th:only-of-type {\n",
       "        vertical-align: middle;\n",
       "    }\n",
       "\n",
       "    .dataframe tbody tr th {\n",
       "        vertical-align: top;\n",
       "    }\n",
       "\n",
       "    .dataframe thead th {\n",
       "        text-align: right;\n",
       "    }\n",
       "</style>\n",
       "<table border=\"1\" class=\"dataframe\">\n",
       "  <thead>\n",
       "    <tr style=\"text-align: right;\">\n",
       "      <th></th>\n",
       "      <th>sa1</th>\n",
       "      <th>lanp_4_digit_level</th>\n",
       "      <th>count</th>\n",
       "    </tr>\n",
       "  </thead>\n",
       "  <tbody>\n",
       "    <tr>\n",
       "      <th>4</th>\n",
       "      <td>2111302</td>\n",
       "      <td>Italian</td>\n",
       "      <td>17</td>\n",
       "    </tr>\n",
       "    <tr>\n",
       "      <th>13</th>\n",
       "      <td>2111302</td>\n",
       "      <td>Cantonese</td>\n",
       "      <td>11</td>\n",
       "    </tr>\n",
       "    <tr>\n",
       "      <th>2</th>\n",
       "      <td>2111302</td>\n",
       "      <td>Greek</td>\n",
       "      <td>9</td>\n",
       "    </tr>\n",
       "    <tr>\n",
       "      <th>7</th>\n",
       "      <td>2111302</td>\n",
       "      <td>Arabic</td>\n",
       "      <td>9</td>\n",
       "    </tr>\n",
       "    <tr>\n",
       "      <th>5</th>\n",
       "      <td>2111302</td>\n",
       "      <td>Maltese</td>\n",
       "      <td>8</td>\n",
       "    </tr>\n",
       "  </tbody>\n",
       "</table>\n",
       "</div>"
      ],
      "text/plain": [
       "        sa1 lanp_4_digit_level  count\n",
       "4   2111302            Italian     17\n",
       "13  2111302          Cantonese     11\n",
       "2   2111302              Greek      9\n",
       "7   2111302             Arabic      9\n",
       "5   2111302            Maltese      8"
      ]
     },
     "execution_count": 4,
     "metadata": {},
     "output_type": "execute_result"
    }
   ],
   "source": [
    "lang = lang_raw.drop(columns = 'Counting') # drop a column\n",
    "lang.columns = ['sa1', 'lanp_4_digit_level', 'count'] # rename columns\n",
    "\n",
    "# filter out \n",
    "lang_remove = ['English', 'Not stated'] # remove these\n",
    "lang = lang[~lang['lanp_4_digit_level'].isin(lang_remove)]\n",
    "\n",
    "# sort values\n",
    "lang = lang.sort_values(['sa1', 'count'], ascending=[True, False])\n",
    "lang.head(5)"
   ]
  },
  {
   "cell_type": "markdown",
   "metadata": {},
   "source": [
    "Get the top language for each `sa1`."
   ]
  },
  {
   "cell_type": "code",
   "execution_count": 5,
   "metadata": {},
   "outputs": [
    {
     "data": {
      "text/html": [
       "<div>\n",
       "<style scoped>\n",
       "    .dataframe tbody tr th:only-of-type {\n",
       "        vertical-align: middle;\n",
       "    }\n",
       "\n",
       "    .dataframe tbody tr th {\n",
       "        vertical-align: top;\n",
       "    }\n",
       "\n",
       "    .dataframe thead th {\n",
       "        text-align: right;\n",
       "    }\n",
       "</style>\n",
       "<table border=\"1\" class=\"dataframe\">\n",
       "  <thead>\n",
       "    <tr style=\"text-align: right;\">\n",
       "      <th></th>\n",
       "      <th>lanp_4_digit_level</th>\n",
       "      <th>count</th>\n",
       "    </tr>\n",
       "    <tr>\n",
       "      <th>sa1</th>\n",
       "      <th></th>\n",
       "      <th></th>\n",
       "    </tr>\n",
       "  </thead>\n",
       "  <tbody>\n",
       "    <tr>\n",
       "      <th>2111302</th>\n",
       "      <td>Italian</td>\n",
       "      <td>17</td>\n",
       "    </tr>\n",
       "    <tr>\n",
       "      <th>2111303</th>\n",
       "      <td>Italian</td>\n",
       "      <td>33</td>\n",
       "    </tr>\n",
       "    <tr>\n",
       "      <th>2111304</th>\n",
       "      <td>Italian</td>\n",
       "      <td>35</td>\n",
       "    </tr>\n",
       "    <tr>\n",
       "      <th>2111305</th>\n",
       "      <td>Italian</td>\n",
       "      <td>34</td>\n",
       "    </tr>\n",
       "    <tr>\n",
       "      <th>2111306</th>\n",
       "      <td>Italian</td>\n",
       "      <td>21</td>\n",
       "    </tr>\n",
       "  </tbody>\n",
       "</table>\n",
       "</div>"
      ],
      "text/plain": [
       "        lanp_4_digit_level  count\n",
       "sa1                              \n",
       "2111302            Italian     17\n",
       "2111303            Italian     33\n",
       "2111304            Italian     35\n",
       "2111305            Italian     34\n",
       "2111306            Italian     21"
      ]
     },
     "execution_count": 5,
     "metadata": {},
     "output_type": "execute_result"
    }
   ],
   "source": [
    "lang_1 = lang.groupby('sa1').first() # this was already sorted\n",
    "lang_1.head(5)"
   ]
  },
  {
   "cell_type": "code",
   "execution_count": 6,
   "metadata": {},
   "outputs": [
    {
     "data": {
      "text/html": [
       "<div>\n",
       "<style scoped>\n",
       "    .dataframe tbody tr th:only-of-type {\n",
       "        vertical-align: middle;\n",
       "    }\n",
       "\n",
       "    .dataframe tbody tr th {\n",
       "        vertical-align: top;\n",
       "    }\n",
       "\n",
       "    .dataframe thead th {\n",
       "        text-align: right;\n",
       "    }\n",
       "</style>\n",
       "<table border=\"1\" class=\"dataframe\">\n",
       "  <thead>\n",
       "    <tr style=\"text-align: right;\">\n",
       "      <th></th>\n",
       "      <th>lanp_4_digit_level</th>\n",
       "      <th>count</th>\n",
       "    </tr>\n",
       "    <tr>\n",
       "      <th>sa1</th>\n",
       "      <th></th>\n",
       "      <th></th>\n",
       "    </tr>\n",
       "  </thead>\n",
       "  <tbody>\n",
       "    <tr>\n",
       "      <th>2111302</th>\n",
       "      <td>Cantonese</td>\n",
       "      <td>11</td>\n",
       "    </tr>\n",
       "    <tr>\n",
       "      <th>2111303</th>\n",
       "      <td>Vietnamese</td>\n",
       "      <td>14</td>\n",
       "    </tr>\n",
       "    <tr>\n",
       "      <th>2111304</th>\n",
       "      <td>Greek</td>\n",
       "      <td>11</td>\n",
       "    </tr>\n",
       "    <tr>\n",
       "      <th>2111305</th>\n",
       "      <td>Mandarin</td>\n",
       "      <td>23</td>\n",
       "    </tr>\n",
       "    <tr>\n",
       "      <th>2111306</th>\n",
       "      <td>Greek</td>\n",
       "      <td>12</td>\n",
       "    </tr>\n",
       "  </tbody>\n",
       "</table>\n",
       "</div>"
      ],
      "text/plain": [
       "        lanp_4_digit_level  count\n",
       "sa1                              \n",
       "2111302          Cantonese     11\n",
       "2111303         Vietnamese     14\n",
       "2111304              Greek     11\n",
       "2111305           Mandarin     23\n",
       "2111306              Greek     12"
      ]
     },
     "execution_count": 6,
     "metadata": {},
     "output_type": "execute_result"
    }
   ],
   "source": [
    "lang_2 = lang.groupby('sa1').nth(1) # the second row. Python indexing starts at zero\n",
    "lang_2.head(5)"
   ]
  },
  {
   "cell_type": "code",
   "execution_count": 7,
   "metadata": {},
   "outputs": [
    {
     "data": {
      "text/html": [
       "<div>\n",
       "<style scoped>\n",
       "    .dataframe tbody tr th:only-of-type {\n",
       "        vertical-align: middle;\n",
       "    }\n",
       "\n",
       "    .dataframe tbody tr th {\n",
       "        vertical-align: top;\n",
       "    }\n",
       "\n",
       "    .dataframe thead th {\n",
       "        text-align: right;\n",
       "    }\n",
       "</style>\n",
       "<table border=\"1\" class=\"dataframe\">\n",
       "  <thead>\n",
       "    <tr style=\"text-align: right;\">\n",
       "      <th></th>\n",
       "      <th>lanp_4_digit_level</th>\n",
       "      <th>count</th>\n",
       "    </tr>\n",
       "    <tr>\n",
       "      <th>sa1</th>\n",
       "      <th></th>\n",
       "      <th></th>\n",
       "    </tr>\n",
       "  </thead>\n",
       "  <tbody>\n",
       "    <tr>\n",
       "      <th>2111302</th>\n",
       "      <td>Greek</td>\n",
       "      <td>9</td>\n",
       "    </tr>\n",
       "    <tr>\n",
       "      <th>2111303</th>\n",
       "      <td>Spanish</td>\n",
       "      <td>10</td>\n",
       "    </tr>\n",
       "    <tr>\n",
       "      <th>2111304</th>\n",
       "      <td>Vietnamese</td>\n",
       "      <td>7</td>\n",
       "    </tr>\n",
       "    <tr>\n",
       "      <th>2111305</th>\n",
       "      <td>Spanish</td>\n",
       "      <td>20</td>\n",
       "    </tr>\n",
       "    <tr>\n",
       "      <th>2111306</th>\n",
       "      <td>Mandarin</td>\n",
       "      <td>10</td>\n",
       "    </tr>\n",
       "  </tbody>\n",
       "</table>\n",
       "</div>"
      ],
      "text/plain": [
       "        lanp_4_digit_level  count\n",
       "sa1                              \n",
       "2111302              Greek      9\n",
       "2111303            Spanish     10\n",
       "2111304         Vietnamese      7\n",
       "2111305            Spanish     20\n",
       "2111306           Mandarin     10"
      ]
     },
     "execution_count": 7,
     "metadata": {},
     "output_type": "execute_result"
    }
   ],
   "source": [
    "lang_3 = lang.groupby('sa1').nth(2) # the third row. Python indexing starts at zero\n",
    "lang_3.head(5)"
   ]
  },
  {
   "cell_type": "code",
   "execution_count": 8,
   "metadata": {},
   "outputs": [
    {
     "data": {
      "text/html": [
       "<div>\n",
       "<style scoped>\n",
       "    .dataframe tbody tr th:only-of-type {\n",
       "        vertical-align: middle;\n",
       "    }\n",
       "\n",
       "    .dataframe tbody tr th {\n",
       "        vertical-align: top;\n",
       "    }\n",
       "\n",
       "    .dataframe thead th {\n",
       "        text-align: right;\n",
       "    }\n",
       "</style>\n",
       "<table border=\"1\" class=\"dataframe\">\n",
       "  <thead>\n",
       "    <tr style=\"text-align: right;\">\n",
       "      <th></th>\n",
       "      <th>sa1</th>\n",
       "      <th>lang1</th>\n",
       "      <th>lang1_count</th>\n",
       "      <th>lang2</th>\n",
       "      <th>lang2_count</th>\n",
       "      <th>lang3</th>\n",
       "      <th>lang3_count</th>\n",
       "    </tr>\n",
       "  </thead>\n",
       "  <tbody>\n",
       "    <tr>\n",
       "      <th>0</th>\n",
       "      <td>2111302</td>\n",
       "      <td>Italian</td>\n",
       "      <td>17</td>\n",
       "      <td>Cantonese</td>\n",
       "      <td>11</td>\n",
       "      <td>Greek</td>\n",
       "      <td>9</td>\n",
       "    </tr>\n",
       "    <tr>\n",
       "      <th>1</th>\n",
       "      <td>2111303</td>\n",
       "      <td>Italian</td>\n",
       "      <td>33</td>\n",
       "      <td>Vietnamese</td>\n",
       "      <td>14</td>\n",
       "      <td>Spanish</td>\n",
       "      <td>10</td>\n",
       "    </tr>\n",
       "    <tr>\n",
       "      <th>2</th>\n",
       "      <td>2111304</td>\n",
       "      <td>Italian</td>\n",
       "      <td>35</td>\n",
       "      <td>Greek</td>\n",
       "      <td>11</td>\n",
       "      <td>Vietnamese</td>\n",
       "      <td>7</td>\n",
       "    </tr>\n",
       "    <tr>\n",
       "      <th>3</th>\n",
       "      <td>2111305</td>\n",
       "      <td>Italian</td>\n",
       "      <td>34</td>\n",
       "      <td>Mandarin</td>\n",
       "      <td>23</td>\n",
       "      <td>Spanish</td>\n",
       "      <td>20</td>\n",
       "    </tr>\n",
       "    <tr>\n",
       "      <th>4</th>\n",
       "      <td>2111306</td>\n",
       "      <td>Italian</td>\n",
       "      <td>21</td>\n",
       "      <td>Greek</td>\n",
       "      <td>12</td>\n",
       "      <td>Mandarin</td>\n",
       "      <td>10</td>\n",
       "    </tr>\n",
       "  </tbody>\n",
       "</table>\n",
       "</div>"
      ],
      "text/plain": [
       "       sa1    lang1  lang1_count       lang2  lang2_count       lang3  \\\n",
       "0  2111302  Italian           17   Cantonese           11       Greek   \n",
       "1  2111303  Italian           33  Vietnamese           14     Spanish   \n",
       "2  2111304  Italian           35       Greek           11  Vietnamese   \n",
       "3  2111305  Italian           34    Mandarin           23     Spanish   \n",
       "4  2111306  Italian           21       Greek           12    Mandarin   \n",
       "\n",
       "   lang3_count  \n",
       "0            9  \n",
       "1           10  \n",
       "2            7  \n",
       "3           20  \n",
       "4           10  "
      ]
     },
     "execution_count": 8,
     "metadata": {},
     "output_type": "execute_result"
    }
   ],
   "source": [
    "lang_top3 = lang_1.join(lang_2, on = 'sa1', lsuffix = '1', rsuffix = '2') # prefix and suffix needed for cols\n",
    "lang_top3 = lang_top3.join(lang_3, on = 'sa1', rsuffix = '3') # prefix and suffix needed for cols\n",
    "lang_top3 = lang_top3.reset_index() # reset the index\n",
    "lang_top3.columns = ['sa1', 'lang1', 'lang1_count', 'lang2', 'lang2_count', 'lang3', 'lang3_count'] # rename columns\n",
    "lang_top3['sa1'] = lang_top3['sa1'].astype(object) # convert from integer to object\n",
    "lang_top3.to_csv(\"data_out/lang_top3_2016_pd.csv\", index=False) # export without the index\n",
    "lang_top3.head(5)"
   ]
  },
  {
   "cell_type": "markdown",
   "metadata": {},
   "source": [
    "## Lone person households"
   ]
  },
  {
   "cell_type": "code",
   "execution_count": 9,
   "metadata": {},
   "outputs": [
    {
     "data": {
      "text/html": [
       "<div>\n",
       "<style scoped>\n",
       "    .dataframe tbody tr th:only-of-type {\n",
       "        vertical-align: middle;\n",
       "    }\n",
       "\n",
       "    .dataframe tbody tr th {\n",
       "        vertical-align: top;\n",
       "    }\n",
       "\n",
       "    .dataframe thead th {\n",
       "        text-align: right;\n",
       "    }\n",
       "</style>\n",
       "<table border=\"1\" class=\"dataframe\">\n",
       "  <thead>\n",
       "    <tr style=\"text-align: right;\">\n",
       "      <th></th>\n",
       "      <th>sa1</th>\n",
       "      <th>lone_pers_hh</th>\n",
       "      <th>count</th>\n",
       "      <th>pct</th>\n",
       "    </tr>\n",
       "  </thead>\n",
       "  <tbody>\n",
       "    <tr>\n",
       "      <th>13</th>\n",
       "      <td>2111302</td>\n",
       "      <td>Lone person household</td>\n",
       "      <td>48.0</td>\n",
       "      <td>27.6</td>\n",
       "    </tr>\n",
       "    <tr>\n",
       "      <th>22</th>\n",
       "      <td>2111303</td>\n",
       "      <td>Lone person household</td>\n",
       "      <td>40.0</td>\n",
       "      <td>19.2</td>\n",
       "    </tr>\n",
       "    <tr>\n",
       "      <th>31</th>\n",
       "      <td>2111304</td>\n",
       "      <td>Lone person household</td>\n",
       "      <td>55.0</td>\n",
       "      <td>24.1</td>\n",
       "    </tr>\n",
       "    <tr>\n",
       "      <th>40</th>\n",
       "      <td>2111305</td>\n",
       "      <td>Lone person household</td>\n",
       "      <td>79.0</td>\n",
       "      <td>23.8</td>\n",
       "    </tr>\n",
       "    <tr>\n",
       "      <th>49</th>\n",
       "      <td>2111306</td>\n",
       "      <td>Lone person household</td>\n",
       "      <td>45.0</td>\n",
       "      <td>19.0</td>\n",
       "    </tr>\n",
       "  </tbody>\n",
       "</table>\n",
       "</div>"
      ],
      "text/plain": [
       "        sa1           lone_pers_hh  count   pct\n",
       "13  2111302  Lone person household   48.0  27.6\n",
       "22  2111303  Lone person household   40.0  19.2\n",
       "31  2111304  Lone person household   55.0  24.1\n",
       "40  2111305  Lone person household   79.0  23.8\n",
       "49  2111306  Lone person household   45.0  19.0"
      ]
     },
     "execution_count": 9,
     "metadata": {},
     "output_type": "execute_result"
    }
   ],
   "source": [
    "lone_pers_hh = hhcd_raw.drop(columns = 'Counting') # drop col\n",
    "lone_pers_hh.columns = ['sa1', 'lone_pers_hh', 'count'] # rename columns\n",
    "\n",
    "# percentages\n",
    "f = lambda x: 100 * x / float(x.sum()) # function to pass in below\n",
    "lone_pers_hh['pct'] = round((lone_pers_hh.groupby(['sa1'])['count'].transform(f)), 1) # new column\n",
    "lone_pers_hh = lone_pers_hh[lone_pers_hh['pct'].notnull()] # drop the na values\n",
    "lone_pers_hh = lone_pers_hh[(lone_pers_hh['lone_pers_hh']) == \"Lone person household\"] # just the lone person households\n",
    "lone_pers_hh['sa1'] = lone_pers_hh['sa1'].astype(object) # convert from integer to object\n",
    "lone_pers_hh.to_csv('data_out/lone_pers_hh_sa1_2016_pd.csv', index=False) # export without the index\n",
    "lone_pers_hh.head(5)"
   ]
  },
  {
   "cell_type": "markdown",
   "metadata": {},
   "source": [
    "# Spatial joins\n",
    "\n",
    "If joining in ArcGIS then you could stop here. Otherwise, we can use `geopandas`"
   ]
  },
  {
   "cell_type": "code",
   "execution_count": 10,
   "metadata": {},
   "outputs": [],
   "source": [
    "import geopandas as gpd"
   ]
  },
  {
   "cell_type": "code",
   "execution_count": 11,
   "metadata": {},
   "outputs": [
    {
     "data": {
      "text/html": [
       "<div>\n",
       "<style scoped>\n",
       "    .dataframe tbody tr th:only-of-type {\n",
       "        vertical-align: middle;\n",
       "    }\n",
       "\n",
       "    .dataframe tbody tr th {\n",
       "        vertical-align: top;\n",
       "    }\n",
       "\n",
       "    .dataframe thead th {\n",
       "        text-align: right;\n",
       "    }\n",
       "</style>\n",
       "<table border=\"1\" class=\"dataframe\">\n",
       "  <thead>\n",
       "    <tr style=\"text-align: right;\">\n",
       "      <th></th>\n",
       "      <th>sa1</th>\n",
       "      <th>geometry</th>\n",
       "    </tr>\n",
       "  </thead>\n",
       "  <tbody>\n",
       "    <tr>\n",
       "      <th>0</th>\n",
       "      <td>2111301</td>\n",
       "      <td>POLYGON ((314804.0597000001 5816681.2025, 3148...</td>\n",
       "    </tr>\n",
       "    <tr>\n",
       "      <th>1</th>\n",
       "      <td>2111302</td>\n",
       "      <td>POLYGON ((315389.9187000003 5817385.5291, 3152...</td>\n",
       "    </tr>\n",
       "    <tr>\n",
       "      <th>2</th>\n",
       "      <td>2111303</td>\n",
       "      <td>POLYGON ((315057.0010000002 5817498.3361, 3150...</td>\n",
       "    </tr>\n",
       "    <tr>\n",
       "      <th>3</th>\n",
       "      <td>2111304</td>\n",
       "      <td>POLYGON ((315800.2566999998 5816719.4447, 3158...</td>\n",
       "    </tr>\n",
       "    <tr>\n",
       "      <th>4</th>\n",
       "      <td>2111305</td>\n",
       "      <td>POLYGON ((315406.4104000004 5815778.8661, 3154...</td>\n",
       "    </tr>\n",
       "  </tbody>\n",
       "</table>\n",
       "</div>"
      ],
      "text/plain": [
       "       sa1                                           geometry\n",
       "0  2111301  POLYGON ((314804.0597000001 5816681.2025, 3148...\n",
       "1  2111302  POLYGON ((315389.9187000003 5817385.5291, 3152...\n",
       "2  2111303  POLYGON ((315057.0010000002 5817498.3361, 3150...\n",
       "3  2111304  POLYGON ((315800.2566999998 5816719.4447, 3158...\n",
       "4  2111305  POLYGON ((315406.4104000004 5815778.8661, 3154..."
      ]
     },
     "execution_count": 11,
     "metadata": {},
     "output_type": "execute_result"
    }
   ],
   "source": [
    "sa1_shp_raw = gpd.read_file(\"data_in/shp/SA1_2016_MV.shp\") \n",
    "sa1_cols_sel = ['SA1_7DIGIT', 'geometry'] # cols to keep\n",
    "sa1_shp = sa1_shp_raw[sa1_cols_sel] # select them\n",
    "sa1_shp.columns = ['sa1', 'geometry'] # rename columns\n",
    "sa1_shp.head(5)"
   ]
  },
  {
   "cell_type": "code",
   "execution_count": 12,
   "metadata": {},
   "outputs": [
    {
     "data": {
      "text/plain": [
       "{'init': 'epsg:28355'}"
      ]
     },
     "execution_count": 12,
     "metadata": {},
     "output_type": "execute_result"
    }
   ],
   "source": [
    "sa1_shp.crs # the crs"
   ]
  },
  {
   "cell_type": "code",
   "execution_count": 13,
   "metadata": {},
   "outputs": [
    {
     "data": {
      "text/plain": [
       "sa1         object\n",
       "geometry    object\n",
       "dtype: object"
      ]
     },
     "execution_count": 13,
     "metadata": {},
     "output_type": "execute_result"
    }
   ],
   "source": [
    "sa1_shp.dtypes"
   ]
  },
  {
   "cell_type": "markdown",
   "metadata": {},
   "source": [
    "## Lone person households"
   ]
  },
  {
   "cell_type": "code",
   "execution_count": 14,
   "metadata": {},
   "outputs": [
    {
     "data": {
      "text/html": [
       "<div>\n",
       "<style scoped>\n",
       "    .dataframe tbody tr th:only-of-type {\n",
       "        vertical-align: middle;\n",
       "    }\n",
       "\n",
       "    .dataframe tbody tr th {\n",
       "        vertical-align: top;\n",
       "    }\n",
       "\n",
       "    .dataframe thead th {\n",
       "        text-align: right;\n",
       "    }\n",
       "</style>\n",
       "<table border=\"1\" class=\"dataframe\">\n",
       "  <thead>\n",
       "    <tr style=\"text-align: right;\">\n",
       "      <th></th>\n",
       "      <th>sa1</th>\n",
       "      <th>geometry</th>\n",
       "      <th>lone_pers_hh</th>\n",
       "      <th>count</th>\n",
       "      <th>pct</th>\n",
       "    </tr>\n",
       "  </thead>\n",
       "  <tbody>\n",
       "    <tr>\n",
       "      <th>1</th>\n",
       "      <td>2111302</td>\n",
       "      <td>POLYGON ((315389.9187000003 5817385.5291, 3152...</td>\n",
       "      <td>Lone person household</td>\n",
       "      <td>48.0</td>\n",
       "      <td>27.6</td>\n",
       "    </tr>\n",
       "    <tr>\n",
       "      <th>2</th>\n",
       "      <td>2111303</td>\n",
       "      <td>POLYGON ((315057.0010000002 5817498.3361, 3150...</td>\n",
       "      <td>Lone person household</td>\n",
       "      <td>40.0</td>\n",
       "      <td>19.2</td>\n",
       "    </tr>\n",
       "    <tr>\n",
       "      <th>3</th>\n",
       "      <td>2111304</td>\n",
       "      <td>POLYGON ((315800.2566999998 5816719.4447, 3158...</td>\n",
       "      <td>Lone person household</td>\n",
       "      <td>55.0</td>\n",
       "      <td>24.1</td>\n",
       "    </tr>\n",
       "    <tr>\n",
       "      <th>4</th>\n",
       "      <td>2111305</td>\n",
       "      <td>POLYGON ((315406.4104000004 5815778.8661, 3154...</td>\n",
       "      <td>Lone person household</td>\n",
       "      <td>79.0</td>\n",
       "      <td>23.8</td>\n",
       "    </tr>\n",
       "    <tr>\n",
       "      <th>5</th>\n",
       "      <td>2111306</td>\n",
       "      <td>POLYGON ((315204.1069 5816705.8674, 315303.790...</td>\n",
       "      <td>Lone person household</td>\n",
       "      <td>45.0</td>\n",
       "      <td>19.0</td>\n",
       "    </tr>\n",
       "  </tbody>\n",
       "</table>\n",
       "</div>"
      ],
      "text/plain": [
       "       sa1                                           geometry  \\\n",
       "1  2111302  POLYGON ((315389.9187000003 5817385.5291, 3152...   \n",
       "2  2111303  POLYGON ((315057.0010000002 5817498.3361, 3150...   \n",
       "3  2111304  POLYGON ((315800.2566999998 5816719.4447, 3158...   \n",
       "4  2111305  POLYGON ((315406.4104000004 5815778.8661, 3154...   \n",
       "5  2111306  POLYGON ((315204.1069 5816705.8674, 315303.790...   \n",
       "\n",
       "            lone_pers_hh  count   pct  \n",
       "1  Lone person household   48.0  27.6  \n",
       "2  Lone person household   40.0  19.2  \n",
       "3  Lone person household   55.0  24.1  \n",
       "4  Lone person household   79.0  23.8  \n",
       "5  Lone person household   45.0  19.0  "
      ]
     },
     "execution_count": 14,
     "metadata": {},
     "output_type": "execute_result"
    }
   ],
   "source": [
    "sa1_lone_pers_shp = sa1_shp.merge(lone_pers_hh, on = 'sa1', how = 'left')\n",
    "sa1_lone_pers_shp = sa1_lone_pers_shp[sa1_lone_pers_shp['count'].notnull()] # drop the na values\n",
    "sa1_lone_pers_shp.to_file(\"data_out/shp/lone_pers_hh_gpd.shp\") # export shapefile\n",
    "sa1_lone_pers_shp.head(5)"
   ]
  },
  {
   "cell_type": "code",
   "execution_count": 15,
   "metadata": {},
   "outputs": [
    {
     "data": {
      "text/plain": [
       "{'init': 'epsg:28355'}"
      ]
     },
     "execution_count": 15,
     "metadata": {},
     "output_type": "execute_result"
    }
   ],
   "source": [
    "sa1_lone_pers_shp.crs"
   ]
  },
  {
   "cell_type": "markdown",
   "metadata": {},
   "source": [
    "## Top three languages"
   ]
  },
  {
   "cell_type": "code",
   "execution_count": 16,
   "metadata": {},
   "outputs": [
    {
     "data": {
      "text/html": [
       "<div>\n",
       "<style scoped>\n",
       "    .dataframe tbody tr th:only-of-type {\n",
       "        vertical-align: middle;\n",
       "    }\n",
       "\n",
       "    .dataframe tbody tr th {\n",
       "        vertical-align: top;\n",
       "    }\n",
       "\n",
       "    .dataframe thead th {\n",
       "        text-align: right;\n",
       "    }\n",
       "</style>\n",
       "<table border=\"1\" class=\"dataframe\">\n",
       "  <thead>\n",
       "    <tr style=\"text-align: right;\">\n",
       "      <th></th>\n",
       "      <th>sa1</th>\n",
       "      <th>geometry</th>\n",
       "      <th>lang1</th>\n",
       "      <th>lang1_count</th>\n",
       "      <th>lang2</th>\n",
       "      <th>lang2_count</th>\n",
       "      <th>lang3</th>\n",
       "      <th>lang3_count</th>\n",
       "    </tr>\n",
       "  </thead>\n",
       "  <tbody>\n",
       "    <tr>\n",
       "      <th>0</th>\n",
       "      <td>2111301</td>\n",
       "      <td>POLYGON ((314804.0597000001 5816681.2025, 3148...</td>\n",
       "      <td>NaN</td>\n",
       "      <td>NaN</td>\n",
       "      <td>NaN</td>\n",
       "      <td>NaN</td>\n",
       "      <td>NaN</td>\n",
       "      <td>NaN</td>\n",
       "    </tr>\n",
       "    <tr>\n",
       "      <th>1</th>\n",
       "      <td>2111302</td>\n",
       "      <td>POLYGON ((315389.9187000003 5817385.5291, 3152...</td>\n",
       "      <td>NaN</td>\n",
       "      <td>NaN</td>\n",
       "      <td>NaN</td>\n",
       "      <td>NaN</td>\n",
       "      <td>NaN</td>\n",
       "      <td>NaN</td>\n",
       "    </tr>\n",
       "    <tr>\n",
       "      <th>2</th>\n",
       "      <td>2111303</td>\n",
       "      <td>POLYGON ((315057.0010000002 5817498.3361, 3150...</td>\n",
       "      <td>NaN</td>\n",
       "      <td>NaN</td>\n",
       "      <td>NaN</td>\n",
       "      <td>NaN</td>\n",
       "      <td>NaN</td>\n",
       "      <td>NaN</td>\n",
       "    </tr>\n",
       "    <tr>\n",
       "      <th>3</th>\n",
       "      <td>2111304</td>\n",
       "      <td>POLYGON ((315800.2566999998 5816719.4447, 3158...</td>\n",
       "      <td>NaN</td>\n",
       "      <td>NaN</td>\n",
       "      <td>NaN</td>\n",
       "      <td>NaN</td>\n",
       "      <td>NaN</td>\n",
       "      <td>NaN</td>\n",
       "    </tr>\n",
       "    <tr>\n",
       "      <th>4</th>\n",
       "      <td>2111305</td>\n",
       "      <td>POLYGON ((315406.4104000004 5815778.8661, 3154...</td>\n",
       "      <td>NaN</td>\n",
       "      <td>NaN</td>\n",
       "      <td>NaN</td>\n",
       "      <td>NaN</td>\n",
       "      <td>NaN</td>\n",
       "      <td>NaN</td>\n",
       "    </tr>\n",
       "  </tbody>\n",
       "</table>\n",
       "</div>"
      ],
      "text/plain": [
       "       sa1                                           geometry lang1  \\\n",
       "0  2111301  POLYGON ((314804.0597000001 5816681.2025, 3148...   NaN   \n",
       "1  2111302  POLYGON ((315389.9187000003 5817385.5291, 3152...   NaN   \n",
       "2  2111303  POLYGON ((315057.0010000002 5817498.3361, 3150...   NaN   \n",
       "3  2111304  POLYGON ((315800.2566999998 5816719.4447, 3158...   NaN   \n",
       "4  2111305  POLYGON ((315406.4104000004 5815778.8661, 3154...   NaN   \n",
       "\n",
       "   lang1_count lang2  lang2_count lang3  lang3_count  \n",
       "0          NaN   NaN          NaN   NaN          NaN  \n",
       "1          NaN   NaN          NaN   NaN          NaN  \n",
       "2          NaN   NaN          NaN   NaN          NaN  \n",
       "3          NaN   NaN          NaN   NaN          NaN  \n",
       "4          NaN   NaN          NaN   NaN          NaN  "
      ]
     },
     "execution_count": 16,
     "metadata": {},
     "output_type": "execute_result"
    }
   ],
   "source": [
    "# not sure what is going on here. not quite working\n",
    "sa1_lang_top3_shp = sa1_shp.merge(lang_top3, on = 'sa1', how = 'left')\n",
    "sa1_lang_top3_shp.head(5)"
   ]
  },
  {
   "cell_type": "code",
   "execution_count": null,
   "metadata": {},
   "outputs": [],
   "source": []
  }
 ],
 "metadata": {
  "kernelspec": {
   "display_name": "Python 3",
   "language": "python",
   "name": "python3"
  },
  "language_info": {
   "codemirror_mode": {
    "name": "ipython",
    "version": 3
   },
   "file_extension": ".py",
   "mimetype": "text/x-python",
   "name": "python",
   "nbconvert_exporter": "python",
   "pygments_lexer": "ipython3",
   "version": "3.7.3"
  }
 },
 "nbformat": 4,
 "nbformat_minor": 2
}
